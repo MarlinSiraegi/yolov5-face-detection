{
 "cells": [
  {
   "cell_type": "code",
   "execution_count": 3,
   "metadata": {},
   "outputs": [
    {
     "name": "stderr",
     "output_type": "stream",
     "text": [
      "YOLOv5 🚀 v7.0-344-gee250c1b Python-3.12.2 torch-2.3.1+cu121 CUDA:0 (NVIDIA GeForce RTX 4070 Ti, 12001MiB)\n",
      "\n",
      "Fusing layers... \n",
      "Model summary: 267 layers, 46108278 parameters, 0 gradients, 107.6 GFLOPs\n",
      "Adding AutoShape... \n"
     ]
    }
   ],
   "source": [
    "import torch\n",
    "from blur import process_video\n",
    "\n",
    "# 모델 로드\n",
    "model = torch.hub.load('.', 'custom', path='my-model/face-detection-yolov5l.pt', source='local')\n",
    "\n",
    "# 비디오 처리\n",
    "input_video_path = 'input/IMG_6611.MOV'\n",
    "output_video_path = 'output/output9.mp4'\n",
    "process_video(input_video_path, output_video_path, model)\n"
   ]
  },
  {
   "cell_type": "code",
   "execution_count": 2,
   "metadata": {},
   "outputs": [
    {
     "name": "stderr",
     "output_type": "stream",
     "text": [
      "YOLOv5 🚀 v7.0-344-gee250c1b Python-3.12.2 torch-2.3.1+cu121 CUDA:0 (NVIDIA GeForce RTX 4070 Ti, 12001MiB)\n",
      "\n",
      "Fusing layers... \n",
      "Model summary: 267 layers, 46108278 parameters, 0 gradients, 107.6 GFLOPs\n",
      "Adding AutoShape... \n"
     ]
    },
    {
     "name": "stdout",
     "output_type": "stream",
     "text": [
      "Video FPS: 59.98624168768631, Original Width: 3840, Original Height: 2160\n",
      "Processed video saved as output/output10.mp4\n"
     ]
    }
   ],
   "source": [
    "import torch\n",
    "import numpy as np\n",
    "from resize_blur import process_video\n",
    "\n",
    "# 모델 로드\n",
    "model = torch.hub.load('.', 'custom', path='my-model/face-detection-yolov5l.pt', source='local')\n",
    "\n",
    "# 비디오 처리\n",
    "input_video_path = 'input/IMG_6611.MOV'\n",
    "output_video_path = 'output/output10.mp4'\n",
    "output_width = 640  # 출력 비디오의 너비\n",
    "output_height = 480  # 출력 비디오의 높이\n",
    "\n",
    "process_video(input_video_path, output_video_path, model, output_width, output_height)\n"
   ]
  }
 ],
 "metadata": {
  "kernelspec": {
   "display_name": "yolo",
   "language": "python",
   "name": "python3"
  },
  "language_info": {
   "codemirror_mode": {
    "name": "ipython",
    "version": 3
   },
   "file_extension": ".py",
   "mimetype": "text/x-python",
   "name": "python",
   "nbconvert_exporter": "python",
   "pygments_lexer": "ipython3",
   "version": "3.12.2"
  }
 },
 "nbformat": 4,
 "nbformat_minor": 2
}
